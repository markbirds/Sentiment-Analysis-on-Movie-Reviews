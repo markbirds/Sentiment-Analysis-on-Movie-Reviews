{
 "cells": [
  {
   "cell_type": "markdown",
   "metadata": {
    "id": "632v0vsSG9EH"
   },
   "source": [
    "# Sentiment analysis on IMBD Movie Reviews"
   ]
  },
  {
   "cell_type": "markdown",
   "metadata": {
    "id": "MSKt0Ue4HS7v"
   },
   "source": [
    "## Importing dataset from Kaggle"
   ]
  },
  {
   "cell_type": "code",
   "execution_count": 1,
   "metadata": {
    "id": "tRBa2JuNDl6T"
   },
   "outputs": [],
   "source": [
    "# from google.colab import files\n",
    "# files.upload()"
   ]
  },
  {
   "cell_type": "code",
   "execution_count": 2,
   "metadata": {
    "id": "024AL1DZDutD"
   },
   "outputs": [],
   "source": [
    "# !mkdir -p ~/.kaggle\n",
    "# !cp kaggle.json ~/.kaggle/\n",
    "\n",
    "# !chmod 600 ~/.kaggle/kaggle.json"
   ]
  },
  {
   "cell_type": "code",
   "execution_count": 3,
   "metadata": {
    "id": "hl8bUGjrEFsJ"
   },
   "outputs": [],
   "source": [
    "# !kaggle datasets download -d mwallerphunware/imbd-movie-reviews-for-binary-sentiment-analysis"
   ]
  },
  {
   "cell_type": "code",
   "execution_count": 4,
   "metadata": {
    "id": "OzGGQbtREpD5"
   },
   "outputs": [],
   "source": [
    "# from zipfile import ZipFile\n",
    "# file_name = \"/content/imbd-movie-reviews-for-binary-sentiment-analysis.zip\"\n",
    "\n",
    "# with ZipFile(file_name,\"r\") as zip:\n",
    "# \tzip.extractall()\n",
    "# \tprint(\"Done\")"
   ]
  },
  {
   "cell_type": "code",
   "execution_count": 5,
   "metadata": {
    "id": "-0PslT4FEvM0"
   },
   "outputs": [],
   "source": [
    "import numpy as np\n",
    "import pandas as pd\n",
    "import matplotlib.pyplot as plt\n",
    "import seaborn as sns\n",
    "from warnings import simplefilter\n",
    "simplefilter(action='ignore', category=FutureWarning)"
   ]
  },
  {
   "cell_type": "markdown",
   "metadata": {
    "id": "47CeUMfgHrM6"
   },
   "source": [
    "## Load the dataset\n",
    "\n",
    "Dataset can be downloaded in https://www.kaggle.com/mwallerphunware/imbd-movie-reviews-for-binary-sentiment-analysis"
   ]
  },
  {
   "cell_type": "code",
   "execution_count": 6,
   "metadata": {
    "colab": {
     "base_uri": "https://localhost:8080/"
    },
    "id": "QeXc2a4-HuTA",
    "outputId": "6ca9441e-b61e-4ef8-e118-eccfd3a4d98b"
   },
   "outputs": [
    {
     "name": "stdout",
     "output_type": "stream",
     "text": [
      "Dataset shape: (25000, 2)\n"
     ]
    }
   ],
   "source": [
    "df= pd.read_csv('/content/MovieReviewTrainingDatabase.csv')\n",
    "print('Dataset shape:',df.shape)"
   ]
  },
  {
   "cell_type": "code",
   "execution_count": 7,
   "metadata": {
    "colab": {
     "base_uri": "https://localhost:8080/",
     "height": 204
    },
    "id": "Rz9c7mqzIFS6",
    "outputId": "839c2735-89ef-47c1-c5cf-f9524a987888"
   },
   "outputs": [
    {
     "data": {
      "text/html": [
       "<div>\n",
       "<style scoped>\n",
       "    .dataframe tbody tr th:only-of-type {\n",
       "        vertical-align: middle;\n",
       "    }\n",
       "\n",
       "    .dataframe tbody tr th {\n",
       "        vertical-align: top;\n",
       "    }\n",
       "\n",
       "    .dataframe thead th {\n",
       "        text-align: right;\n",
       "    }\n",
       "</style>\n",
       "<table border=\"1\" class=\"dataframe\">\n",
       "  <thead>\n",
       "    <tr style=\"text-align: right;\">\n",
       "      <th></th>\n",
       "      <th>sentiment</th>\n",
       "      <th>review</th>\n",
       "    </tr>\n",
       "  </thead>\n",
       "  <tbody>\n",
       "    <tr>\n",
       "      <th>0</th>\n",
       "      <td>Positive</td>\n",
       "      <td>With all this stuff going down at the moment w...</td>\n",
       "    </tr>\n",
       "    <tr>\n",
       "      <th>1</th>\n",
       "      <td>Positive</td>\n",
       "      <td>'The Classic War of the Worlds' by Timothy Hin...</td>\n",
       "    </tr>\n",
       "    <tr>\n",
       "      <th>2</th>\n",
       "      <td>Negative</td>\n",
       "      <td>The film starts with a manager (Nicholas Bell)...</td>\n",
       "    </tr>\n",
       "    <tr>\n",
       "      <th>3</th>\n",
       "      <td>Negative</td>\n",
       "      <td>It must be assumed that those who praised this...</td>\n",
       "    </tr>\n",
       "    <tr>\n",
       "      <th>4</th>\n",
       "      <td>Positive</td>\n",
       "      <td>Superbly trashy and wondrously unpretentious 8...</td>\n",
       "    </tr>\n",
       "  </tbody>\n",
       "</table>\n",
       "</div>"
      ],
      "text/plain": [
       "  sentiment                                             review\n",
       "0  Positive  With all this stuff going down at the moment w...\n",
       "1  Positive  'The Classic War of the Worlds' by Timothy Hin...\n",
       "2  Negative  The film starts with a manager (Nicholas Bell)...\n",
       "3  Negative  It must be assumed that those who praised this...\n",
       "4  Positive  Superbly trashy and wondrously unpretentious 8..."
      ]
     },
     "execution_count": 7,
     "metadata": {
      "tags": []
     },
     "output_type": "execute_result"
    }
   ],
   "source": [
    "df.head()"
   ]
  },
  {
   "cell_type": "markdown",
   "metadata": {
    "id": "DqHHfWrvK_Rb"
   },
   "source": [
    "### Sample positive movie review"
   ]
  },
  {
   "cell_type": "code",
   "execution_count": 8,
   "metadata": {
    "colab": {
     "base_uri": "https://localhost:8080/"
    },
    "id": "_6Vy1tS4JKLi",
    "outputId": "1007a100-56a6-4b85-960b-4787420f74d9"
   },
   "outputs": [
    {
     "name": "stdout",
     "output_type": "stream",
     "text": [
      "Sentiment: Positive\n",
      "Review:\n",
      "With all this stuff going down at the moment with MJ i've started listening to his music, watching the odd documentary here and there, watched The Wiz and watched Moonwalker again. Maybe i just want to get a certain insight into this guy who i thought was really cool in the eighties just to maybe make up my mind whether he is guilty or innocent. Moonwalker is part biography, part feature film which i remember going to see at the cinema when it was originally released. Some of it has subtle messages about MJ's feeling towards the press and also the obvious message of drugs are bad m'kay.  Visually impressive but of course this is all about Michael Jackson so unless you remotely like MJ in anyway then you are going to hate this and find it boring. Some may call MJ an egotist for consenting to the making of this movie BUT MJ and most of his fans would say that he made it for the fans which if true is really nice of him.  The actual feature film bit when it finally starts is only on for 20 minutes or so excluding the Smooth Criminal sequence and Joe Pesci is convincing as a psychopathic all powerful drug lord. Why he wants MJ dead so bad is beyond me. Because MJ overheard his plans? Nah, Joe Pesci's character ranted that he wanted people to know it is he who is supplying drugs etc so i dunno, maybe he just hates MJ's music.  Lots of cool things in this like MJ turning into a car and a robot and the whole Speed Demon sequence. Also, the director must have had the patience of a saint when it came to filming the kiddy Bad sequence as usually directors hate working with one kid let alone a whole bunch of them performing a complex dance scene.  Bottom line, this movie is for people who like MJ on one level or another (which i think is most people). If not, then stay away. It does try and give off a wholesome message and ironically MJ's bestest buddy in this movie is a girl! Michael Jackson is truly one of the most talented people ever to grace this planet but is he guilty? Well, with all the attention i've gave this subject....hmmm well i don't know because people can be different behind closed doors, i know this for a fact. He is either an extremely nice but stupid guy or one of the most sickest liars. I hope he is not the latter.\n"
     ]
    }
   ],
   "source": [
    "print('Sentiment:',df.iloc[0]['sentiment'])\n",
    "print('Review:')\n",
    "print(df.iloc[0]['review'])"
   ]
  },
  {
   "cell_type": "markdown",
   "metadata": {
    "id": "UTYzCXX0Mqzu"
   },
   "source": [
    "### Sample negative movie review"
   ]
  },
  {
   "cell_type": "code",
   "execution_count": 9,
   "metadata": {
    "colab": {
     "base_uri": "https://localhost:8080/"
    },
    "id": "WCQcP6_zMIlX",
    "outputId": "a71edb08-c31f-4519-e55f-438270cee2ec"
   },
   "outputs": [
    {
     "name": "stdout",
     "output_type": "stream",
     "text": [
      "Sentiment: Negative\n",
      "Review:\n",
      "The film starts with a manager (Nicholas Bell) giving welcome investors (Robert Carradine) to Primal Park . A secret project mutating a primal animal using fossilized DNA, like'Jurassik Park', and some scientists resurrect one of nature's most fearsome predators, the Sabretooth tiger or Smilodon . Scientific ambition turns deadly, however, and when the high voltage fence is opened the creature escape and begins savagely stalking its prey - the human visitors , tourists and scientific.Meanwhile some youngsters enter in the restricted area of the security center and are attacked by a pack of large pre-historical animals which are deadlier and bigger . In addition , a security agent (Stacy Haiduk) and her mate (Brian Wimmer) fight hardly against the carnivorous Smilodons. The Sabretooths, themselves , of course, are the real star stars and they are astounding terrifyingly though not convincing. The giant animals savagely are stalking its prey and the group run afoul and fight against one nature's most fearsome predators. Furthermore a third Sabretooth more dangerous and slow stalks its victims.  The movie delivers the goods with lots of blood and gore as beheading, hair-raising chills,full of scares when the Sabretooths appear with mediocre special effects.The story provides exciting and stirring entertainment but it results to be quite boring .The giant animals are majority made by computer generator and seem totally lousy .Middling performances though the players reacting appropriately to becoming food.Actors give vigorously physical performances dodging the beasts ,running,bound and leaps or dangling over walls . And it packs a ridiculous final deadly scene. No for small kids by realistic,gory and violent attack scenes . Other films about Sabretooths or Smilodon are the following :'Sabretooth(2002)'by James R Hickox with Vanessa Angel, David Keith and John Rhys Davies and the much better'10.000 BC(2006)' by Roland Emmerich with with Steven Strait, Cliff Curtis and Camilla Belle. This motion picture filled with bloody moments is badly directed by George Miller and with no originality because takes too many elements from previous films. Miller is an Australian director usually working for television (Tidal wave, Journey to the center of the earth, and many others) and occasionally for cinema ( The man from Snowy river, Zeus and Roxanne,Robinson Crusoe ). Rating : Below average, bottom of barrel.\n"
     ]
    }
   ],
   "source": [
    "print('Sentiment:',df.iloc[2]['sentiment'])\n",
    "print('Review:')\n",
    "print(df.iloc[2]['review'])"
   ]
  },
  {
   "cell_type": "markdown",
   "metadata": {
    "id": "YNoWiI-uNK1U"
   },
   "source": [
    "### Checking for null values"
   ]
  },
  {
   "cell_type": "code",
   "execution_count": 10,
   "metadata": {
    "colab": {
     "base_uri": "https://localhost:8080/"
    },
    "id": "hXPu9PPFMkrH",
    "outputId": "724a5da8-a4b9-4b0f-b0c5-fff17e84e9b6"
   },
   "outputs": [
    {
     "data": {
      "text/plain": [
       "sentiment    0\n",
       "review       0\n",
       "dtype: int64"
      ]
     },
     "execution_count": 10,
     "metadata": {
      "tags": []
     },
     "output_type": "execute_result"
    }
   ],
   "source": [
    "df.isna().sum()"
   ]
  },
  {
   "cell_type": "markdown",
   "metadata": {
    "id": "C3NXZ47hUsdx"
   },
   "source": [
    "## Data Visualization\n",
    "\n",
    "* Sentiment distribution\n",
    "* Review length"
   ]
  },
  {
   "cell_type": "markdown",
   "metadata": {
    "id": "EwHrQUs-N9Wm"
   },
   "source": [
    "### Sentiment distribution"
   ]
  },
  {
   "cell_type": "code",
   "execution_count": 11,
   "metadata": {
    "colab": {
     "base_uri": "https://localhost:8080/",
     "height": 388
    },
    "id": "l6rSNyUUHpsJ",
    "outputId": "f8371925-da84-4b76-e7a5-6e8681c98fe8"
   },
   "outputs": [
    {
     "data": {
      "image/png": "[encoded data removed]",
      "text/plain": [
       "<Figure size 576x432 with 1 Axes>"
      ]
     },
     "metadata": {
      "needs_background": "light",
      "tags": []
     },
     "output_type": "display_data"
    }
   ],
   "source": [
    "plt.figure(figsize=(8,6))\n",
    "sns.countplot(df['sentiment'])\n",
    "plt.show()"
   ]
  },
  {
   "cell_type": "markdown",
   "metadata": {
    "id": "9xoL-xd-U62K"
   },
   "source": [
    "### Review length"
   ]
  },
  {
   "cell_type": "code",
   "execution_count": 12,
   "metadata": {
    "colab": {
     "base_uri": "https://localhost:8080/",
     "height": 388
    },
    "id": "kKk5UcWXU8Bh",
    "outputId": "5546b6a8-512f-4e14-a18f-077ea55efa6d"
   },
   "outputs": [
    {
     "data": {
      "image/png": "[encoded data removed]",
      "text/plain": [
       "<Figure size 576x432 with 1 Axes>"
      ]
     },
     "metadata": {
      "needs_background": "light",
      "tags": []
     },
     "output_type": "display_data"
    }
   ],
   "source": [
    "review_length = [len(review) for review in df['review']]\n",
    "df['review_length'] = review_length\n",
    "\n",
    "plt.figure(figsize=(8,6))\n",
    "sns.boxplot(x='sentiment',y='review_length',data=df)\n",
    "plt.show()"
   ]
  },
  {
   "cell_type": "code",
   "execution_count": 13,
   "metadata": {
    "colab": {
     "base_uri": "https://localhost:8080/"
    },
    "id": "aQSTRe-vWr2I",
    "outputId": "36197fa6-d946-4201-d15d-efa5c4079ceb"
   },
   "outputs": [
    {
     "data": {
      "text/plain": [
       "(23267, 3)"
      ]
     },
     "execution_count": 13,
     "metadata": {
      "tags": []
     },
     "output_type": "execute_result"
    }
   ],
   "source": [
    "# dropping too long reviews to speed up the process\n",
    "df2 = df[df['review_length']<3000]\n",
    "df2.shape"
   ]
  },
  {
   "cell_type": "markdown",
   "metadata": {
    "id": "G8b9pa5rQ7-F"
   },
   "source": [
    "## Data Preprocessing\n",
    "\n",
    "* Remove special characters and digits\n",
    "* Convert sentences into lower case\n",
    "* Tokenize by words / split by words\n",
    "* Remove stopwords and lemmetize words\n",
    "* Build corpus\n",
    "* One hot representation of corpus\n",
    "* Add pre-padding\n"
   ]
  },
  {
   "cell_type": "code",
   "execution_count": 14,
   "metadata": {
    "colab": {
     "base_uri": "https://localhost:8080/"
    },
    "id": "NzNsg4ykEvJG",
    "outputId": "67415370-36c0-4a6c-92dd-89a5b3b723ee"
   },
   "outputs": [
    {
     "name": "stdout",
     "output_type": "stream",
     "text": [
      "[nltk_data] Downloading package stopwords to /root/nltk_data...\n",
      "[nltk_data]   Package stopwords is already up-to-date!\n",
      "[nltk_data] Downloading package wordnet to /root/nltk_data...\n",
      "[nltk_data]   Package wordnet is already up-to-date!\n"
     ]
    }
   ],
   "source": [
    "# Importing essential libraries for data preprocessing and nlp\n",
    "import re\n",
    "import nltk\n",
    "nltk.download('stopwords')\n",
    "nltk.download('wordnet')\n",
    "from nltk.corpus import stopwords\n",
    "from nltk.stem import WordNetLemmatizer\n",
    "from tensorflow.keras.preprocessing.text import one_hot\n",
    "from tensorflow.keras.preprocessing.sequence import pad_sequences"
   ]
  },
  {
   "cell_type": "code",
   "execution_count": 15,
   "metadata": {
    "id": "txxb3j8mPwpQ"
   },
   "outputs": [],
   "source": [
    "corpus = []\n",
    "lemmatizer = WordNetLemmatizer()\n",
    "\n",
    "for review in df2['review']:   \n",
    "    # Remove special characters and digits\n",
    "    removed_spchar_digits = re.sub('[^a-zA-Z]',' ',review)\n",
    "    \n",
    "    # Convert sentences into lower case\n",
    "    lower_case = removed_spchar_digits.lower()\n",
    "    \n",
    "    # Tokenize by words / split by words\n",
    "    tokenized_sentence = lower_case.split()\n",
    "    \n",
    "    # Remove stopwords and lemmetize word\n",
    "    lemmetized_words = [lemmatizer.lemmatize(word) for word in tokenized_sentence if word not in stopwords.words('english')]\n",
    "    \n",
    "    # Build corpus\n",
    "    review = ' '.join(lemmetized_words)\n",
    "    corpus.append(review)"
   ]
  },
  {
   "cell_type": "code",
   "execution_count": 16,
   "metadata": {
    "colab": {
     "base_uri": "https://localhost:8080/"
    },
    "id": "P3Ygm1GtSUvi",
    "outputId": "fa6ce17d-2e21-442c-d913-8bed4d8806be"
   },
   "outputs": [
    {
     "data": {
      "text/plain": [
       "['stuff going moment mj started listening music watching odd documentary watched wiz watched moonwalker maybe want get certain insight guy thought really cool eighty maybe make mind whether guilty innocent moonwalker part biography part feature film remember going see cinema originally released subtle message mj feeling towards press also obvious message drug bad kay visually impressive course michael jackson unless remotely like mj anyway going hate find boring may call mj egotist consenting making movie mj fan would say made fan true really nice actual feature film bit finally start minute excluding smooth criminal sequence joe pesci convincing psychopathic powerful drug lord want mj dead bad beyond mj overheard plan nah joe pesci character ranted wanted people know supplying drug etc dunno maybe hate mj music lot cool thing like mj turning car robot whole speed demon sequence also director must patience saint came filming kiddy bad sequence usually director hate working one kid let alone whole bunch performing complex dance scene bottom line movie people like mj one level another think people stay away try give wholesome message ironically mj bestest buddy movie girl michael jackson truly one talented people ever grace planet guilty well attention gave subject hmmm well know people different behind closed door know fact either extremely nice stupid guy one sickest liar hope latter',\n",
       " 'classic war world timothy hines entertaining film obviously go great effort length faithfully recreate h g well classic book mr hines succeeds watched film appreciated fact standard predictable hollywood fare come every year e g spielberg version tom cruise slightest resemblance book obviously everyone look different thing movie envision amateur critic look criticize everything others rate movie important base like entertained people never agree critic enjoyed effort mr hines put faithful h g well classic novel found entertaining made easy overlook critic perceive shortcoming',\n",
       " 'film start manager nicholas bell giving welcome investor robert carradine primal park secret project mutating primal animal using fossilized dna like jurassik park scientist resurrect one nature fearsome predator sabretooth tiger smilodon scientific ambition turn deadly however high voltage fence opened creature escape begin savagely stalking prey human visitor tourist scientific meanwhile youngster enter restricted area security center attacked pack large pre historical animal deadlier bigger addition security agent stacy haiduk mate brian wimmer fight hardly carnivorous smilodons sabretooths course real star star astounding terrifyingly though convincing giant animal savagely stalking prey group run afoul fight one nature fearsome predator furthermore third sabretooth dangerous slow stalk victim movie delivers good lot blood gore beheading hair raising chill full scare sabretooths appear mediocre special effect story provides exciting stirring entertainment result quite boring giant animal majority made computer generator seem totally lousy middling performance though player reacting appropriately becoming food actor give vigorously physical performance dodging beast running bound leap dangling wall pack ridiculous final deadly scene small kid realistic gory violent attack scene film sabretooths smilodon following sabretooth james r hickox vanessa angel david keith john rhys davy much better bc roland emmerich steven strait cliff curtis camilla belle motion picture filled bloody moment badly directed george miller originality take many element previous film miller australian director usually working television tidal wave journey center earth many others occasionally cinema man snowy river zeus roxanne robinson crusoe rating average bottom barrel']"
      ]
     },
     "execution_count": 16,
     "metadata": {
      "tags": []
     },
     "output_type": "execute_result"
    }
   ],
   "source": [
    "corpus[:3]"
   ]
  },
  {
   "cell_type": "code",
   "execution_count": 17,
   "metadata": {
    "colab": {
     "base_uri": "https://localhost:8080/"
    },
    "id": "SMBISv1wSTNg",
    "outputId": "db863d5f-edb0-4810-e6be-56a3df3b65b2"
   },
   "outputs": [
    {
     "data": {
      "text/plain": [
       "array([3538, 1747, 4009, 8143, 5353,  693, 6961, 2751, 7577, 9515,  776,\n",
       "       6298,  776, 9169, 6019, 6786, 8333, 1357, 2072, 5475, 8933,  471,\n",
       "       3125, 1596, 6019, 2450, 4809, 1317, 4947, 8408, 9169, 8640,  831,\n",
       "       8640, 4352, 1183, 7515, 1747, 9163, 7149, 4413, 3435, 8880, 9194,\n",
       "       8143, 4481, 7195, 2443, 9365, 3069, 9194, 8204, 4835,  586, 8483,\n",
       "       1202, 4272, 1616,  611, 6539, 9037, 6401, 8143, 2283, 1747, 3895,\n",
       "       7008, 8311, 5182, 8129, 8143, 8474, 3396, 1793, 9166, 8143, 9455,\n",
       "       2529, 9266, 5289, 9455, 8429,  471, 2144, 5760, 4352, 1183, 5922,\n",
       "       3862, 2838, 4670, 7075, 2277, 4201, 6038, 1025, 6933, 3017, 7700,\n",
       "       6537, 8204, 1637, 6786, 8143, 2829, 4835, 8496, 8143, 9097, 5634,\n",
       "       4968, 1025, 6933, 9389,  714, 4598, 9307, 2279, 7809, 8204, 7639,\n",
       "       6221, 6019, 3895, 8143, 6961, 3303, 3125, 4827, 6401, 8143, 1371,\n",
       "       7018,  115, 3118, 3400, 8019, 6038, 9365, 1970,  472, 6361, 2042,\n",
       "       3126, 6802, 3877, 4835, 6038, 6676, 1970, 3895, 4920, 9632, 5502,\n",
       "       3166, 2554, 3118, 3692, 8944, 2833, 2174, 2288, 1114, 4954, 9166,\n",
       "       9307, 6401, 8143, 9632, 4714, 2436, 5366, 9307, 1702, 7971, 6530,\n",
       "       8280,  904, 9194, 1719, 8143, 1630, 7007, 9166, 1409, 1616,  611,\n",
       "       4299, 9632, 2706, 9307, 5033, 1950, 9972, 4947, 9273, 2342, 1021,\n",
       "       7561, 1944, 9273, 2279, 9307, 4497, 9188,  869, 5876, 2279, 4512,\n",
       "       1610, 1469, 2144,  873, 5475, 9632, 6406, 8759, 8118, 7711])"
      ]
     },
     "execution_count": 17,
     "metadata": {
      "tags": []
     },
     "output_type": "execute_result"
    }
   ],
   "source": [
    "# One hot representation of corpus\n",
    "# Consist of indices of words from vocabulary/dictionary\n",
    "\n",
    "vocabulary_size = 10000\n",
    "one_hot_representation = [one_hot(review,vocabulary_size) for review in corpus]\n",
    "np.array(one_hot_representation[0])"
   ]
  },
  {
   "cell_type": "code",
   "execution_count": 18,
   "metadata": {
    "colab": {
     "base_uri": "https://localhost:8080/"
    },
    "id": "yXIhita-PlQ5",
    "outputId": "062ae7ea-5136-4021-ef0b-89ee59fb4a87"
   },
   "outputs": [
    {
     "name": "stdout",
     "output_type": "stream",
     "text": [
      "Maximum length in one hot list: 307\n"
     ]
    },
    {
     "data": {
      "text/plain": [
       "array([   0,    0,    0,    0,    0,    0,    0,    0,    0,    0,    0,\n",
       "          0,    0,    0,    0,    0,    0,    0,    0,    0,    0,    0,\n",
       "          0,    0,    0,    0,    0,    0,    0,    0,    0,    0,    0,\n",
       "          0,    0,    0,    0,    0,    0,    0,    0,    0,    0,    0,\n",
       "          0,    0,    0,    0,    0,    0,    0,    0,    0,    0,    0,\n",
       "          0,    0,    0,    0,    0,    0,    0,    0,    0,    0,    0,\n",
       "          0,    0,    0,    0,    0,    0,    0,    0,    0,    0,    0,\n",
       "          0,    0,    0,    0,    0,    0,    0,    0,    0,    0,    0,\n",
       "          0,    0,    0, 3538, 1747, 4009, 8143, 5353,  693, 6961, 2751,\n",
       "       7577, 9515,  776, 6298,  776, 9169, 6019, 6786, 8333, 1357, 2072,\n",
       "       5475, 8933,  471, 3125, 1596, 6019, 2450, 4809, 1317, 4947, 8408,\n",
       "       9169, 8640,  831, 8640, 4352, 1183, 7515, 1747, 9163, 7149, 4413,\n",
       "       3435, 8880, 9194, 8143, 4481, 7195, 2443, 9365, 3069, 9194, 8204,\n",
       "       4835,  586, 8483, 1202, 4272, 1616,  611, 6539, 9037, 6401, 8143,\n",
       "       2283, 1747, 3895, 7008, 8311, 5182, 8129, 8143, 8474, 3396, 1793,\n",
       "       9166, 8143, 9455, 2529, 9266, 5289, 9455, 8429,  471, 2144, 5760,\n",
       "       4352, 1183, 5922, 3862, 2838, 4670, 7075, 2277, 4201, 6038, 1025,\n",
       "       6933, 3017, 7700, 6537, 8204, 1637, 6786, 8143, 2829, 4835, 8496,\n",
       "       8143, 9097, 5634, 4968, 1025, 6933, 9389,  714, 4598, 9307, 2279,\n",
       "       7809, 8204, 7639, 6221, 6019, 3895, 8143, 6961, 3303, 3125, 4827,\n",
       "       6401, 8143, 1371, 7018,  115, 3118, 3400, 8019, 6038, 9365, 1970,\n",
       "        472, 6361, 2042, 3126, 6802, 3877, 4835, 6038, 6676, 1970, 3895,\n",
       "       4920, 9632, 5502, 3166, 2554, 3118, 3692, 8944, 2833, 2174, 2288,\n",
       "       1114, 4954, 9166, 9307, 6401, 8143, 9632, 4714, 2436, 5366, 9307,\n",
       "       1702, 7971, 6530, 8280,  904, 9194, 1719, 8143, 1630, 7007, 9166,\n",
       "       1409, 1616,  611, 4299, 9632, 2706, 9307, 5033, 1950, 9972, 4947,\n",
       "       9273, 2342, 1021, 7561, 1944, 9273, 2279, 9307, 4497, 9188,  869,\n",
       "       5876, 2279, 4512, 1610, 1469, 2144,  873, 5475, 9632, 6406, 8759,\n",
       "       8118, 7711], dtype=int32)"
      ]
     },
     "execution_count": 18,
     "metadata": {
      "tags": []
     },
     "output_type": "execute_result"
    }
   ],
   "source": [
    "lengths = [len(i) for i in one_hot_representation]\n",
    "print(f'Maximum length in one hot list: {max(lengths)}')\n",
    "\n",
    "# Add pre-padding \n",
    "# Adds additional zeroes to have lengths of all one hot representations equal\n",
    "\n",
    "sentence_length = 310\n",
    "padded_onehot = pad_sequences(one_hot_representation,maxlen=sentence_length)\n",
    "padded_onehot[0]"
   ]
  },
  {
   "cell_type": "markdown",
   "metadata": {
    "id": "CAeY2n0GlD-a"
   },
   "source": [
    "## Model Building\n",
    "\n",
    "* Splitting the dataset into training and testing data\n",
    "* Model training\n",
    "* Model evaluation\n",
    "* Saving the model"
   ]
  },
  {
   "cell_type": "code",
   "execution_count": 19,
   "metadata": {
    "id": "_88xOQlTlDpq"
   },
   "outputs": [],
   "source": [
    "import tensorflow as tf\n",
    "from tensorflow.keras import Sequential\n",
    "from tensorflow.keras.layers import Embedding, Bidirectional, LSTM, Dense\n",
    "\n",
    "from sklearn.model_selection import train_test_split\n",
    "from sklearn.metrics import classification_report, confusion_matrix"
   ]
  },
  {
   "cell_type": "markdown",
   "metadata": {
    "id": "GdH2oFmZpQOE"
   },
   "source": [
    "### Splitting the dataset into training and testing data"
   ]
  },
  {
   "cell_type": "code",
   "execution_count": 20,
   "metadata": {
    "colab": {
     "base_uri": "https://localhost:8080/"
    },
    "id": "HMs2jYn8mV2j",
    "outputId": "99540467-860f-40a5-cf20-5c5a5ba78f14"
   },
   "outputs": [
    {
     "name": "stdout",
     "output_type": "stream",
     "text": [
      "X train shape: (16286, 310)\n",
      "X test shape: (6981, 310)\n"
     ]
    }
   ],
   "source": [
    "X = padded_onehot\n",
    "y = np.array(df2['sentiment'].replace({'Positive':1,'Negative':0}))\n",
    "\n",
    "X_train, X_test, y_train, y_test = train_test_split(X, y, test_size=0.30, random_state=42,stratify=y)\n",
    "print(f'X train shape: {X_train.shape}')\n",
    "print(f'X test shape: {X_test.shape}')"
   ]
  },
  {
   "cell_type": "markdown",
   "metadata": {
    "id": "BJ_SZ-afpS_Y"
   },
   "source": [
    "### Model training"
   ]
  },
  {
   "cell_type": "code",
   "execution_count": 21,
   "metadata": {
    "colab": {
     "base_uri": "https://localhost:8080/"
    },
    "id": "N-f3pjzUn0DQ",
    "outputId": "a8d2ded9-aaaa-433d-8c80-415088d68e2e"
   },
   "outputs": [
    {
     "name": "stdout",
     "output_type": "stream",
     "text": [
      "Epoch 1/5\n",
      "204/204 [==============================] - 13s 42ms/step - loss: 0.6198 - accuracy: 0.6243 - val_loss: 0.4023 - val_accuracy: 0.8416\n",
      "Epoch 2/5\n",
      "204/204 [==============================] - 7s 37ms/step - loss: 0.3045 - accuracy: 0.8858 - val_loss: 0.3564 - val_accuracy: 0.8579\n",
      "Epoch 3/5\n",
      "204/204 [==============================] - 7s 37ms/step - loss: 0.2270 - accuracy: 0.9173 - val_loss: 0.3870 - val_accuracy: 0.8603\n",
      "Epoch 4/5\n",
      "204/204 [==============================] - 8s 37ms/step - loss: 0.1681 - accuracy: 0.9392 - val_loss: 0.4037 - val_accuracy: 0.8533\n",
      "Epoch 5/5\n",
      "204/204 [==============================] - 7s 37ms/step - loss: 0.1228 - accuracy: 0.9575 - val_loss: 0.4481 - val_accuracy: 0.8576\n"
     ]
    },
    {
     "data": {
      "text/plain": [
       "<tensorflow.python.keras.callbacks.History at 0x7f49620ea2b0>"
      ]
     },
     "execution_count": 21,
     "metadata": {
      "tags": []
     },
     "output_type": "execute_result"
    }
   ],
   "source": [
    "# dimension of feature vector\n",
    "embedding_vector_features = 40\n",
    "\n",
    "model = Sequential()\n",
    "\n",
    "# Embedding layer converts word into feature vectors\n",
    "model.add(Embedding(vocabulary_size, embedding_vector_features, input_length=sentence_length))\n",
    "\n",
    "# Bidirectional LSTM RNN\n",
    "model.add(Bidirectional(LSTM(100,dropout=0.5)))\n",
    "\n",
    "# Classification layer\n",
    "model.add(Dense(1,activation='sigmoid'))\n",
    "model.compile(loss='binary_crossentropy',optimizer='adam',metrics=['accuracy'])\n",
    "\n",
    "model.fit(X_train,y_train,validation_split=0.2,batch_size=64,epochs=5)"
   ]
  },
  {
   "cell_type": "code",
   "execution_count": 22,
   "metadata": {
    "colab": {
     "base_uri": "https://localhost:8080/"
    },
    "id": "mKVQ5k-Y8osU",
    "outputId": "32a9930c-1b68-4858-d2f5-f11c5d781a4a"
   },
   "outputs": [
    {
     "name": "stdout",
     "output_type": "stream",
     "text": [
      "Model: \"sequential\"\n",
      "_________________________________________________________________\n",
      "Layer (type)                 Output Shape              Param #   \n",
      "=================================================================\n",
      "embedding (Embedding)        (None, 310, 40)           400000    \n",
      "_________________________________________________________________\n",
      "bidirectional (Bidirectional (None, 200)               112800    \n",
      "_________________________________________________________________\n",
      "dense (Dense)                (None, 1)                 201       \n",
      "=================================================================\n",
      "Total params: 513,001\n",
      "Trainable params: 513,001\n",
      "Non-trainable params: 0\n",
      "_________________________________________________________________\n"
     ]
    }
   ],
   "source": [
    "model.summary()"
   ]
  },
  {
   "cell_type": "markdown",
   "metadata": {
    "id": "x3pvNpRa0kIv"
   },
   "source": [
    "### Model evaluation"
   ]
  },
  {
   "cell_type": "code",
   "execution_count": 23,
   "metadata": {
    "colab": {
     "base_uri": "https://localhost:8080/"
    },
    "id": "J-FTLWQqgsq0",
    "outputId": "6b119366-e714-44a1-8713-13f2392660e9"
   },
   "outputs": [
    {
     "name": "stdout",
     "output_type": "stream",
     "text": [
      "219/219 [==============================] - 2s 11ms/step - loss: 0.4639 - accuracy: 0.8472\n"
     ]
    },
    {
     "data": {
      "text/plain": [
       "[0.46386954188346863, 0.8471565842628479]"
      ]
     },
     "execution_count": 23,
     "metadata": {
      "tags": []
     },
     "output_type": "execute_result"
    }
   ],
   "source": [
    "# Evaluate our model in test data\n",
    "model.evaluate(X_test,y_test)"
   ]
  },
  {
   "cell_type": "code",
   "execution_count": 24,
   "metadata": {
    "colab": {
     "base_uri": "https://localhost:8080/"
    },
    "id": "obzCqDp4Et0j",
    "outputId": "396af8aa-5636-4260-f612-2876d8b1504e"
   },
   "outputs": [
    {
     "data": {
      "text/plain": [
       "[1, 1, 1, 0, 0]"
      ]
     },
     "execution_count": 24,
     "metadata": {
      "tags": []
     },
     "output_type": "execute_result"
    }
   ],
   "source": [
    "y_predicted = [1 if y >= 0.5 else 0 for y in model.predict(X_test).flatten()]\n",
    "y_predicted[:5]"
   ]
  },
  {
   "cell_type": "code",
   "execution_count": 25,
   "metadata": {
    "colab": {
     "base_uri": "https://localhost:8080/",
     "height": 404
    },
    "id": "wijjWMKczjmq",
    "outputId": "6b747c27-30af-4318-dcc2-db4da51747e4"
   },
   "outputs": [
    {
     "data": {
      "image/png": "[encoded data removed]",
      "text/plain": [
       "<Figure size 576x432 with 2 Axes>"
      ]
     },
     "metadata": {
      "needs_background": "light",
      "tags": []
     },
     "output_type": "display_data"
    }
   ],
   "source": [
    "confusion_matrix_result = confusion_matrix(y_test,y_predicted)\n",
    "\n",
    "labels = ['Negative','Positive']\n",
    "plt.figure(figsize=(8,6))\n",
    "sns.heatmap(confusion_matrix_result,annot=True,cmap='Reds',fmt='.0f',xticklabels=labels,yticklabels=labels)\n",
    "plt.title('Movie Review Sentiment')\n",
    "plt.xlabel('Predicted values')\n",
    "plt.ylabel('Actual values')\n",
    "plt.show()"
   ]
  },
  {
   "cell_type": "code",
   "execution_count": 26,
   "metadata": {
    "colab": {
     "base_uri": "https://localhost:8080/"
    },
    "id": "j5_bBaD3zyV5",
    "outputId": "88a889b0-c7a6-4ffe-a024-a4496a71dea6"
   },
   "outputs": [
    {
     "name": "stdout",
     "output_type": "stream",
     "text": [
      "              precision    recall  f1-score   support\n",
      "\n",
      "           0       0.88      0.81      0.84      3520\n",
      "           1       0.82      0.89      0.85      3461\n",
      "\n",
      "    accuracy                           0.85      6981\n",
      "   macro avg       0.85      0.85      0.85      6981\n",
      "weighted avg       0.85      0.85      0.85      6981\n",
      "\n"
     ]
    }
   ],
   "source": [
    "classification_report_result = classification_report(y_test,y_predicted)\n",
    "print(classification_report_result)"
   ]
  },
  {
   "cell_type": "markdown",
   "metadata": {
    "id": "4taDDpVcVfdL"
   },
   "source": [
    "### Saving the model"
   ]
  },
  {
   "cell_type": "code",
   "execution_count": 27,
   "metadata": {
    "id": "WA2oSBi18deL"
   },
   "outputs": [],
   "source": [
    "model.save('movie_sentiment_analysis_model.h5')"
   ]
  }
 ],
 "metadata": {
  "accelerator": "GPU",
  "colab": {
   "collapsed_sections": [],
   "name": "movie-sentiment-analysis-bidirectional-lstm.ipynb",
   "provenance": []
  },
  "kernelspec": {
   "display_name": "Python 3",
   "language": "python",
   "name": "python3"
  },
  "language_info": {
   "codemirror_mode": {
    "name": "ipython",
    "version": 3
   },
   "file_extension": ".py",
   "mimetype": "text/x-python",
   "name": "python",
   "nbconvert_exporter": "python",
   "pygments_lexer": "ipython3",
   "version": "3.7.9"
  }
 },
 "nbformat": 4,
 "nbformat_minor": 1
}
