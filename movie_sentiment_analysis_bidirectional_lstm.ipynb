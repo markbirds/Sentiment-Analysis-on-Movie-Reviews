{
  "nbformat": 4,
  "nbformat_minor": 0,
  "metadata": {
    "colab": {
      "name": "movie-sentiment-analysis-bidirectional-lstm.ipynb",
      "provenance": [],
      "collapsed_sections": []
    },
    "kernelspec": {
      "name": "python3",
      "display_name": "Python 3"
    },
    "accelerator": "GPU"
  },
  "cells": [
    {
      "cell_type": "markdown",
      "metadata": {
        "id": "632v0vsSG9EH"
      },
      "source": [
        "# Sentiment analysis on IMDb Movie Reviews"
      ]
    },
    {
      "cell_type": "markdown",
      "metadata": {
        "id": "MSKt0Ue4HS7v"
      },
      "source": [
        "## Importing dataset from Kaggle"
      ]
    },
    {
      "cell_type": "code",
      "metadata": {
        "id": "tRBa2JuNDl6T"
      },
      "source": [
        "# from google.colab import files\r\n",
        "# files.upload()"
      ],
      "execution_count": 1,
      "outputs": []
    },
    {
      "cell_type": "code",
      "metadata": {
        "id": "024AL1DZDutD"
      },
      "source": [
        "# !mkdir -p ~/.kaggle\r\n",
        "# !cp kaggle.json ~/.kaggle/\r\n",
        "\r\n",
        "# !chmod 600 ~/.kaggle/kaggle.json"
      ],
      "execution_count": 2,
      "outputs": []
    },
    {
      "cell_type": "code",
      "metadata": {
        "id": "hl8bUGjrEFsJ"
      },
      "source": [
        "# !kaggle datasets download -d mwallerphunware/imbd-movie-reviews-for-binary-sentiment-analysis"
      ],
      "execution_count": 3,
      "outputs": []
    },
    {
      "cell_type": "code",
      "metadata": {
        "id": "OzGGQbtREpD5"
      },
      "source": [
        "# from zipfile import ZipFile\r\n",
        "# file_name = \"/content/imbd-movie-reviews-for-binary-sentiment-analysis.zip\"\r\n",
        "\r\n",
        "# with ZipFile(file_name,\"r\") as zip:\r\n",
        "# \tzip.extractall()\r\n",
        "# \tprint(\"Done\")"
      ],
      "execution_count": 4,
      "outputs": []
    },
    {
      "cell_type": "code",
      "metadata": {
        "id": "-0PslT4FEvM0"
      },
      "source": [
        "import numpy as np\r\n",
        "import pandas as pd\r\n",
        "import matplotlib.pyplot as plt\r\n",
        "import seaborn as sns\r\n",
        "from warnings import simplefilter\r\n",
        "simplefilter(action='ignore', category=FutureWarning)"
      ],
      "execution_count": 5,
      "outputs": []
    },
    {
      "cell_type": "markdown",
      "metadata": {
        "id": "47CeUMfgHrM6"
      },
      "source": [
        "## Load the dataset\r\n",
        "\r\n",
        "Dataset can be downloaded in https://www.kaggle.com/mwallerphunware/imbd-movie-reviews-for-binary-sentiment-analysis"
      ]
    },
    {
      "cell_type": "code",
      "metadata": {
        "colab": {
          "base_uri": "https://localhost:8080/"
        },
        "id": "QeXc2a4-HuTA",
        "outputId": "de50e0a2-8149-45cb-aa98-bdbac66f772d"
      },
      "source": [
        "df= pd.read_csv('/content/MovieReviewTrainingDatabase.csv')\r\n",
        "print('Dataset shape:',df.shape)"
      ],
      "execution_count": 6,
      "outputs": [
        {
          "output_type": "stream",
          "text": [
            "Dataset shape: (25000, 2)\n"
          ],
          "name": "stdout"
        }
      ]
    },
    {
      "cell_type": "code",
      "metadata": {
        "colab": {
          "base_uri": "https://localhost:8080/",
          "height": 204
        },
        "id": "Rz9c7mqzIFS6",
        "outputId": "9a308974-6343-47ee-803e-aa79a4135830"
      },
      "source": [
        "df.head()"
      ],
      "execution_count": 7,
      "outputs": [
        {
          "output_type": "execute_result",
          "data": {
            "text/html": [
              "<div>\n",
              "<style scoped>\n",
              "    .dataframe tbody tr th:only-of-type {\n",
              "        vertical-align: middle;\n",
              "    }\n",
              "\n",
              "    .dataframe tbody tr th {\n",
              "        vertical-align: top;\n",
              "    }\n",
              "\n",
              "    .dataframe thead th {\n",
              "        text-align: right;\n",
              "    }\n",
              "</style>\n",
              "<table border=\"1\" class=\"dataframe\">\n",
              "  <thead>\n",
              "    <tr style=\"text-align: right;\">\n",
              "      <th></th>\n",
              "      <th>sentiment</th>\n",
              "      <th>review</th>\n",
              "    </tr>\n",
              "  </thead>\n",
              "  <tbody>\n",
              "    <tr>\n",
              "      <th>0</th>\n",
              "      <td>Positive</td>\n",
              "      <td>With all this stuff going down at the moment w...</td>\n",
              "    </tr>\n",
              "    <tr>\n",
              "      <th>1</th>\n",
              "      <td>Positive</td>\n",
              "      <td>'The Classic War of the Worlds' by Timothy Hin...</td>\n",
              "    </tr>\n",
              "    <tr>\n",
              "      <th>2</th>\n",
              "      <td>Negative</td>\n",
              "      <td>The film starts with a manager (Nicholas Bell)...</td>\n",
              "    </tr>\n",
              "    <tr>\n",
              "      <th>3</th>\n",
              "      <td>Negative</td>\n",
              "      <td>It must be assumed that those who praised this...</td>\n",
              "    </tr>\n",
              "    <tr>\n",
              "      <th>4</th>\n",
              "      <td>Positive</td>\n",
              "      <td>Superbly trashy and wondrously unpretentious 8...</td>\n",
              "    </tr>\n",
              "  </tbody>\n",
              "</table>\n",
              "</div>"
            ],
            "text/plain": [
              "  sentiment                                             review\n",
              "0  Positive  With all this stuff going down at the moment w...\n",
              "1  Positive  'The Classic War of the Worlds' by Timothy Hin...\n",
              "2  Negative  The film starts with a manager (Nicholas Bell)...\n",
              "3  Negative  It must be assumed that those who praised this...\n",
              "4  Positive  Superbly trashy and wondrously unpretentious 8..."
            ]
          },
          "metadata": {
            "tags": []
          },
          "execution_count": 7
        }
      ]
    },
    {
      "cell_type": "markdown",
      "metadata": {
        "id": "DqHHfWrvK_Rb"
      },
      "source": [
        "### Sample positive movie review"
      ]
    },
    {
      "cell_type": "code",
      "metadata": {
        "colab": {
          "base_uri": "https://localhost:8080/"
        },
        "id": "_6Vy1tS4JKLi",
        "outputId": "b37ce7aa-c40f-4ede-a2ba-0db1f7440422"
      },
      "source": [
        "print('Sentiment:',df.iloc[0]['sentiment'])\r\n",
        "print('Review:')\r\n",
        "print(df.iloc[0]['review'])"
      ],
      "execution_count": 8,
      "outputs": [
        {
          "output_type": "stream",
          "text": [
            "Sentiment: Positive\n",
            "Review:\n",
            "With all this stuff going down at the moment with MJ i've started listening to his music, watching the odd documentary here and there, watched The Wiz and watched Moonwalker again. Maybe i just want to get a certain insight into this guy who i thought was really cool in the eighties just to maybe make up my mind whether he is guilty or innocent. Moonwalker is part biography, part feature film which i remember going to see at the cinema when it was originally released. Some of it has subtle messages about MJ's feeling towards the press and also the obvious message of drugs are bad m'kay.  Visually impressive but of course this is all about Michael Jackson so unless you remotely like MJ in anyway then you are going to hate this and find it boring. Some may call MJ an egotist for consenting to the making of this movie BUT MJ and most of his fans would say that he made it for the fans which if true is really nice of him.  The actual feature film bit when it finally starts is only on for 20 minutes or so excluding the Smooth Criminal sequence and Joe Pesci is convincing as a psychopathic all powerful drug lord. Why he wants MJ dead so bad is beyond me. Because MJ overheard his plans? Nah, Joe Pesci's character ranted that he wanted people to know it is he who is supplying drugs etc so i dunno, maybe he just hates MJ's music.  Lots of cool things in this like MJ turning into a car and a robot and the whole Speed Demon sequence. Also, the director must have had the patience of a saint when it came to filming the kiddy Bad sequence as usually directors hate working with one kid let alone a whole bunch of them performing a complex dance scene.  Bottom line, this movie is for people who like MJ on one level or another (which i think is most people). If not, then stay away. It does try and give off a wholesome message and ironically MJ's bestest buddy in this movie is a girl! Michael Jackson is truly one of the most talented people ever to grace this planet but is he guilty? Well, with all the attention i've gave this subject....hmmm well i don't know because people can be different behind closed doors, i know this for a fact. He is either an extremely nice but stupid guy or one of the most sickest liars. I hope he is not the latter.\n"
          ],
          "name": "stdout"
        }
      ]
    },
    {
      "cell_type": "markdown",
      "metadata": {
        "id": "UTYzCXX0Mqzu"
      },
      "source": [
        "### Sample negative movie review"
      ]
    },
    {
      "cell_type": "code",
      "metadata": {
        "colab": {
          "base_uri": "https://localhost:8080/"
        },
        "id": "WCQcP6_zMIlX",
        "outputId": "c6d8fc9b-9c50-49df-f987-5913669e417a"
      },
      "source": [
        "print('Sentiment:',df.iloc[2]['sentiment'])\r\n",
        "print('Review:')\r\n",
        "print(df.iloc[2]['review'])"
      ],
      "execution_count": 9,
      "outputs": [
        {
          "output_type": "stream",
          "text": [
            "Sentiment: Negative\n",
            "Review:\n",
            "The film starts with a manager (Nicholas Bell) giving welcome investors (Robert Carradine) to Primal Park . A secret project mutating a primal animal using fossilized DNA, like'Jurassik Park', and some scientists resurrect one of nature's most fearsome predators, the Sabretooth tiger or Smilodon . Scientific ambition turns deadly, however, and when the high voltage fence is opened the creature escape and begins savagely stalking its prey - the human visitors , tourists and scientific.Meanwhile some youngsters enter in the restricted area of the security center and are attacked by a pack of large pre-historical animals which are deadlier and bigger . In addition , a security agent (Stacy Haiduk) and her mate (Brian Wimmer) fight hardly against the carnivorous Smilodons. The Sabretooths, themselves , of course, are the real star stars and they are astounding terrifyingly though not convincing. The giant animals savagely are stalking its prey and the group run afoul and fight against one nature's most fearsome predators. Furthermore a third Sabretooth more dangerous and slow stalks its victims.  The movie delivers the goods with lots of blood and gore as beheading, hair-raising chills,full of scares when the Sabretooths appear with mediocre special effects.The story provides exciting and stirring entertainment but it results to be quite boring .The giant animals are majority made by computer generator and seem totally lousy .Middling performances though the players reacting appropriately to becoming food.Actors give vigorously physical performances dodging the beasts ,running,bound and leaps or dangling over walls . And it packs a ridiculous final deadly scene. No for small kids by realistic,gory and violent attack scenes . Other films about Sabretooths or Smilodon are the following :'Sabretooth(2002)'by James R Hickox with Vanessa Angel, David Keith and John Rhys Davies and the much better'10.000 BC(2006)' by Roland Emmerich with with Steven Strait, Cliff Curtis and Camilla Belle. This motion picture filled with bloody moments is badly directed by George Miller and with no originality because takes too many elements from previous films. Miller is an Australian director usually working for television (Tidal wave, Journey to the center of the earth, and many others) and occasionally for cinema ( The man from Snowy river, Zeus and Roxanne,Robinson Crusoe ). Rating : Below average, bottom of barrel.\n"
          ],
          "name": "stdout"
        }
      ]
    },
    {
      "cell_type": "markdown",
      "metadata": {
        "id": "YNoWiI-uNK1U"
      },
      "source": [
        "### Checking for null values"
      ]
    },
    {
      "cell_type": "code",
      "metadata": {
        "colab": {
          "base_uri": "https://localhost:8080/"
        },
        "id": "hXPu9PPFMkrH",
        "outputId": "80f6942e-190d-4b16-8a07-0db8e7f59a1f"
      },
      "source": [
        "df.isna().sum()"
      ],
      "execution_count": 10,
      "outputs": [
        {
          "output_type": "execute_result",
          "data": {
            "text/plain": [
              "sentiment    0\n",
              "review       0\n",
              "dtype: int64"
            ]
          },
          "metadata": {
            "tags": []
          },
          "execution_count": 10
        }
      ]
    },
    {
      "cell_type": "markdown",
      "metadata": {
        "id": "SuObqa_rpX_O"
      },
      "source": [
        "### Dropping duplicates"
      ]
    },
    {
      "cell_type": "code",
      "metadata": {
        "colab": {
          "base_uri": "https://localhost:8080/"
        },
        "id": "DmWRLWYCpIvx",
        "outputId": "dd50f3ff-bbdd-486c-e1e7-935d04c6b18f"
      },
      "source": [
        "duplicates = df['review'].duplicated().sum()\r\n",
        "print(f'Number of duplicates: {duplicates}')\r\n",
        "\r\n",
        "df = df.drop_duplicates(subset=['review'])"
      ],
      "execution_count": 11,
      "outputs": [
        {
          "output_type": "stream",
          "text": [
            "Number of duplicates: 96\n"
          ],
          "name": "stdout"
        }
      ]
    },
    {
      "cell_type": "code",
      "metadata": {
        "colab": {
          "base_uri": "https://localhost:8080/"
        },
        "id": "qbl5LLS6puCV",
        "outputId": "d1d48028-18d6-4952-9116-55d66c8e6efd"
      },
      "source": [
        "df.shape"
      ],
      "execution_count": 12,
      "outputs": [
        {
          "output_type": "execute_result",
          "data": {
            "text/plain": [
              "(24904, 2)"
            ]
          },
          "metadata": {
            "tags": []
          },
          "execution_count": 12
        }
      ]
    },
    {
      "cell_type": "markdown",
      "metadata": {
        "id": "C3NXZ47hUsdx"
      },
      "source": [
        "## Data Visualization\r\n",
        "\r\n",
        "* Sentiment distribution\r\n",
        "* Review length"
      ]
    },
    {
      "cell_type": "markdown",
      "metadata": {
        "id": "EwHrQUs-N9Wm"
      },
      "source": [
        "### Sentiment distribution"
      ]
    },
    {
      "cell_type": "code",
      "metadata": {
        "colab": {
          "base_uri": "https://localhost:8080/",
          "height": 388
        },
        "id": "l6rSNyUUHpsJ",
        "outputId": "94a08324-ada4-47bf-c43c-afcf5ace7c37"
      },
      "source": [
        "plt.figure(figsize=(8,6))\r\n",
        "sns.countplot(df['sentiment'])\r\n",
        "plt.show()"
      ],
      "execution_count": 13,
      "outputs": [
        {
          "output_type": "display_data",
          "data": {
            "image/png": "[encoded data removed]",
            "text/plain": [
              "<Figure size 576x432 with 1 Axes>"
            ]
          },
          "metadata": {
            "tags": [],
            "needs_background": "light"
          }
        }
      ]
    },
    {
      "cell_type": "markdown",
      "metadata": {
        "id": "9xoL-xd-U62K"
      },
      "source": [
        "### Review length"
      ]
    },
    {
      "cell_type": "code",
      "metadata": {
        "colab": {
          "base_uri": "https://localhost:8080/",
          "height": 388
        },
        "id": "kKk5UcWXU8Bh",
        "outputId": "f4f01469-a274-44a0-854e-5c4a2acac412"
      },
      "source": [
        "review_length = [len(review) for review in df['review']]\r\n",
        "df['review_length'] = review_length\r\n",
        "\r\n",
        "plt.figure(figsize=(8,6))\r\n",
        "sns.boxplot(x='sentiment',y='review_length',data=df)\r\n",
        "plt.show()"
      ],
      "execution_count": 14,
      "outputs": [
        {
          "output_type": "display_data",
          "data": {
            "image/png": "[encoded data removed]",
            "text/plain": [
              "<Figure size 576x432 with 1 Axes>"
            ]
          },
          "metadata": {
            "tags": [],
            "needs_background": "light"
          }
        }
      ]
    },
    {
      "cell_type": "code",
      "metadata": {
        "colab": {
          "base_uri": "https://localhost:8080/"
        },
        "id": "aQSTRe-vWr2I",
        "outputId": "771727aa-cb64-4c12-d303-b30a5377392f"
      },
      "source": [
        "# dropping too long reviews to speed up the process\r\n",
        "df2 = df[df['review_length']<3000]\r\n",
        "df2.shape"
      ],
      "execution_count": 15,
      "outputs": [
        {
          "output_type": "execute_result",
          "data": {
            "text/plain": [
              "(23174, 3)"
            ]
          },
          "metadata": {
            "tags": []
          },
          "execution_count": 15
        }
      ]
    },
    {
      "cell_type": "markdown",
      "metadata": {
        "id": "G8b9pa5rQ7-F"
      },
      "source": [
        "## Data Preprocessing\r\n",
        "\r\n",
        "* Remove special characters and digits\r\n",
        "* Convert sentences into lower case\r\n",
        "* Tokenize by words / split by words\r\n",
        "* Remove stopwords and lemmetize words\r\n",
        "* Build corpus\r\n",
        "* One hot representation of corpus\r\n",
        "* Add pre-padding\r\n"
      ]
    },
    {
      "cell_type": "code",
      "metadata": {
        "id": "NzNsg4ykEvJG",
        "colab": {
          "base_uri": "https://localhost:8080/"
        },
        "outputId": "d0a42896-0f7a-4306-da6e-1520ab187e84"
      },
      "source": [
        "# Importing essential libraries for data preprocessing and nlp\r\n",
        "import re\r\n",
        "import nltk\r\n",
        "nltk.download('stopwords')\r\n",
        "nltk.download('wordnet')\r\n",
        "from nltk.corpus import stopwords\r\n",
        "from nltk.stem import WordNetLemmatizer\r\n",
        "from tensorflow.keras.preprocessing.text import one_hot\r\n",
        "from tensorflow.keras.preprocessing.sequence import pad_sequences"
      ],
      "execution_count": 16,
      "outputs": [
        {
          "output_type": "stream",
          "text": [
            "[nltk_data] Downloading package stopwords to /root/nltk_data...\n",
            "[nltk_data]   Package stopwords is already up-to-date!\n",
            "[nltk_data] Downloading package wordnet to /root/nltk_data...\n",
            "[nltk_data]   Package wordnet is already up-to-date!\n"
          ],
          "name": "stdout"
        }
      ]
    },
    {
      "cell_type": "code",
      "metadata": {
        "id": "txxb3j8mPwpQ"
      },
      "source": [
        "corpus = []\r\n",
        "lemmatizer = WordNetLemmatizer()\r\n",
        "\r\n",
        "for review in df2['review']:   \r\n",
        "    # Remove special characters and digits\r\n",
        "    removed_spchar_digits = re.sub('[^a-zA-Z]',' ',review)\r\n",
        "    \r\n",
        "    # Convert sentences into lower case\r\n",
        "    lower_case = removed_spchar_digits.lower()\r\n",
        "    \r\n",
        "    # Tokenize by words / split by words\r\n",
        "    tokenized_sentence = lower_case.split()\r\n",
        "    \r\n",
        "    # Remove stopwords and lemmetize word\r\n",
        "    lemmetized_words = [lemmatizer.lemmatize(word) for word in tokenized_sentence if word not in stopwords.words('english')]\r\n",
        "    \r\n",
        "    # Build corpus\r\n",
        "    review = ' '.join(lemmetized_words)\r\n",
        "    corpus.append(review)"
      ],
      "execution_count": 17,
      "outputs": []
    },
    {
      "cell_type": "code",
      "metadata": {
        "colab": {
          "base_uri": "https://localhost:8080/"
        },
        "id": "P3Ygm1GtSUvi",
        "outputId": "930e471b-bec0-4736-f6e2-0d246c21bdbc"
      },
      "source": [
        "corpus[:3]"
      ],
      "execution_count": 18,
      "outputs": [
        {
          "output_type": "execute_result",
          "data": {
            "text/plain": [
              "['stuff going moment mj started listening music watching odd documentary watched wiz watched moonwalker maybe want get certain insight guy thought really cool eighty maybe make mind whether guilty innocent moonwalker part biography part feature film remember going see cinema originally released subtle message mj feeling towards press also obvious message drug bad kay visually impressive course michael jackson unless remotely like mj anyway going hate find boring may call mj egotist consenting making movie mj fan would say made fan true really nice actual feature film bit finally start minute excluding smooth criminal sequence joe pesci convincing psychopathic powerful drug lord want mj dead bad beyond mj overheard plan nah joe pesci character ranted wanted people know supplying drug etc dunno maybe hate mj music lot cool thing like mj turning car robot whole speed demon sequence also director must patience saint came filming kiddy bad sequence usually director hate working one kid let alone whole bunch performing complex dance scene bottom line movie people like mj one level another think people stay away try give wholesome message ironically mj bestest buddy movie girl michael jackson truly one talented people ever grace planet guilty well attention gave subject hmmm well know people different behind closed door know fact either extremely nice stupid guy one sickest liar hope latter',\n",
              " 'classic war world timothy hines entertaining film obviously go great effort length faithfully recreate h g well classic book mr hines succeeds watched film appreciated fact standard predictable hollywood fare come every year e g spielberg version tom cruise slightest resemblance book obviously everyone look different thing movie envision amateur critic look criticize everything others rate movie important base like entertained people never agree critic enjoyed effort mr hines put faithful h g well classic novel found entertaining made easy overlook critic perceive shortcoming',\n",
              " 'film start manager nicholas bell giving welcome investor robert carradine primal park secret project mutating primal animal using fossilized dna like jurassik park scientist resurrect one nature fearsome predator sabretooth tiger smilodon scientific ambition turn deadly however high voltage fence opened creature escape begin savagely stalking prey human visitor tourist scientific meanwhile youngster enter restricted area security center attacked pack large pre historical animal deadlier bigger addition security agent stacy haiduk mate brian wimmer fight hardly carnivorous smilodons sabretooths course real star star astounding terrifyingly though convincing giant animal savagely stalking prey group run afoul fight one nature fearsome predator furthermore third sabretooth dangerous slow stalk victim movie delivers good lot blood gore beheading hair raising chill full scare sabretooths appear mediocre special effect story provides exciting stirring entertainment result quite boring giant animal majority made computer generator seem totally lousy middling performance though player reacting appropriately becoming food actor give vigorously physical performance dodging beast running bound leap dangling wall pack ridiculous final deadly scene small kid realistic gory violent attack scene film sabretooths smilodon following sabretooth james r hickox vanessa angel david keith john rhys davy much better bc roland emmerich steven strait cliff curtis camilla belle motion picture filled bloody moment badly directed george miller originality take many element previous film miller australian director usually working television tidal wave journey center earth many others occasionally cinema man snowy river zeus roxanne robinson crusoe rating average bottom barrel']"
            ]
          },
          "metadata": {
            "tags": []
          },
          "execution_count": 18
        }
      ]
    },
    {
      "cell_type": "code",
      "metadata": {
        "colab": {
          "base_uri": "https://localhost:8080/"
        },
        "id": "SMBISv1wSTNg",
        "outputId": "754d7837-57e2-4bf6-b3a8-2cefa8190a3e"
      },
      "source": [
        "# One hot representation of corpus\r\n",
        "# Consist of indices of words from vocabulary/dictionary\r\n",
        "\r\n",
        "vocabulary_size = 10000\r\n",
        "one_hot_representation = [one_hot(review,vocabulary_size) for review in corpus]\r\n",
        "np.array(one_hot_representation[0])"
      ],
      "execution_count": 19,
      "outputs": [
        {
          "output_type": "execute_result",
          "data": {
            "text/plain": [
              "array([4224, 3394, 9891, 6196, 7968,   10,  359, 7374, 6084, 4044, 1920,\n",
              "        111, 1920, 8855,  443, 5397,  281, 2497, 6769, 9040, 8792, 6486,\n",
              "        943, 5233,  443, 9884, 1168,  948, 8661, 9980, 8855, 8242, 1343,\n",
              "       8242, 5346, 6682, 1355, 3394, 2817, 8374,  789, 6587, 4190,  301,\n",
              "       6196, 9453,  794, 6546, 7172,  208,  301, 5755, 2370,  511,  155,\n",
              "       1817, 8207, 1989, 6621, 9884, 8603, 4093, 6196, 4194, 3394, 7289,\n",
              "       5076, 4996, 2274, 5792, 6196, 9956, 6893, 8920, 1733, 6196, 1870,\n",
              "       1262, 7271, 9954, 1870, 5721, 6486, 5381, 4117, 5346, 6682, 5272,\n",
              "       2913, 6798, 6453, 4844, 4424, 9550, 7972, 9541, 9451, 2780, 4074,\n",
              "       6922, 5755, 8649, 5397, 6196, 1508, 2370, 9478, 6196, 1491, 1666,\n",
              "       3636, 9541, 9451, 2023, 3539, 9157, 9114, 3957, 4796, 5755, 3589,\n",
              "        840,  443, 7289, 6196,  359, 2850,  943, 9731, 4093, 6196, 6516,\n",
              "       7351, 3486, 5745, 6394, 3245, 7972, 7172, 6048, 3248, 8826, 3132,\n",
              "       4007, 2443, 4094, 2370, 7972, 4659, 6048, 7289, 9973, 7084, 6723,\n",
              "       4993, 8325, 5745, 1223, 6691, 2713, 4790, 1104, 2954, 8398, 1733,\n",
              "       9114, 4093, 6196, 7084,  797, 8662, 4434, 9114, 1912, 4428,  790,\n",
              "       6241, 1866,  301, 5820, 6196, 6453, 1239, 1733, 4921, 1989, 6621,\n",
              "       2232, 7084, 2054, 9114, 9836, 6996,  760, 8661, 4530, 7071, 3246,\n",
              "        835, 1902, 4530, 3957, 9114, 9192, 2436, 5461, 4273, 3957, 5247,\n",
              "        741, 3969, 5381, 7277, 9040, 7084, 4692, 9819, 2995, 7808])"
            ]
          },
          "metadata": {
            "tags": []
          },
          "execution_count": 19
        }
      ]
    },
    {
      "cell_type": "code",
      "metadata": {
        "colab": {
          "base_uri": "https://localhost:8080/"
        },
        "id": "yXIhita-PlQ5",
        "outputId": "322d1c77-7d3d-471d-8fef-b12648e3fde1"
      },
      "source": [
        "lengths = [len(i) for i in one_hot_representation]\r\n",
        "print(f'Maximum length in one hot list: {max(lengths)}')\r\n",
        "\r\n",
        "# Add pre-padding \r\n",
        "# Adds additional zeroes to have lengths of all one hot representations equal\r\n",
        "\r\n",
        "sentence_length = 310\r\n",
        "padded_onehot = pad_sequences(one_hot_representation,maxlen=sentence_length)\r\n",
        "padded_onehot[0]"
      ],
      "execution_count": 20,
      "outputs": [
        {
          "output_type": "stream",
          "text": [
            "Maximum length in one hot list: 307\n"
          ],
          "name": "stdout"
        },
        {
          "output_type": "execute_result",
          "data": {
            "text/plain": [
              "array([   0,    0,    0,    0,    0,    0,    0,    0,    0,    0,    0,\n",
              "          0,    0,    0,    0,    0,    0,    0,    0,    0,    0,    0,\n",
              "          0,    0,    0,    0,    0,    0,    0,    0,    0,    0,    0,\n",
              "          0,    0,    0,    0,    0,    0,    0,    0,    0,    0,    0,\n",
              "          0,    0,    0,    0,    0,    0,    0,    0,    0,    0,    0,\n",
              "          0,    0,    0,    0,    0,    0,    0,    0,    0,    0,    0,\n",
              "          0,    0,    0,    0,    0,    0,    0,    0,    0,    0,    0,\n",
              "          0,    0,    0,    0,    0,    0,    0,    0,    0,    0,    0,\n",
              "          0,    0,    0, 4224, 3394, 9891, 6196, 7968,   10,  359, 7374,\n",
              "       6084, 4044, 1920,  111, 1920, 8855,  443, 5397,  281, 2497, 6769,\n",
              "       9040, 8792, 6486,  943, 5233,  443, 9884, 1168,  948, 8661, 9980,\n",
              "       8855, 8242, 1343, 8242, 5346, 6682, 1355, 3394, 2817, 8374,  789,\n",
              "       6587, 4190,  301, 6196, 9453,  794, 6546, 7172,  208,  301, 5755,\n",
              "       2370,  511,  155, 1817, 8207, 1989, 6621, 9884, 8603, 4093, 6196,\n",
              "       4194, 3394, 7289, 5076, 4996, 2274, 5792, 6196, 9956, 6893, 8920,\n",
              "       1733, 6196, 1870, 1262, 7271, 9954, 1870, 5721, 6486, 5381, 4117,\n",
              "       5346, 6682, 5272, 2913, 6798, 6453, 4844, 4424, 9550, 7972, 9541,\n",
              "       9451, 2780, 4074, 6922, 5755, 8649, 5397, 6196, 1508, 2370, 9478,\n",
              "       6196, 1491, 1666, 3636, 9541, 9451, 2023, 3539, 9157, 9114, 3957,\n",
              "       4796, 5755, 3589,  840,  443, 7289, 6196,  359, 2850,  943, 9731,\n",
              "       4093, 6196, 6516, 7351, 3486, 5745, 6394, 3245, 7972, 7172, 6048,\n",
              "       3248, 8826, 3132, 4007, 2443, 4094, 2370, 7972, 4659, 6048, 7289,\n",
              "       9973, 7084, 6723, 4993, 8325, 5745, 1223, 6691, 2713, 4790, 1104,\n",
              "       2954, 8398, 1733, 9114, 4093, 6196, 7084,  797, 8662, 4434, 9114,\n",
              "       1912, 4428,  790, 6241, 1866,  301, 5820, 6196, 6453, 1239, 1733,\n",
              "       4921, 1989, 6621, 2232, 7084, 2054, 9114, 9836, 6996,  760, 8661,\n",
              "       4530, 7071, 3246,  835, 1902, 4530, 3957, 9114, 9192, 2436, 5461,\n",
              "       4273, 3957, 5247,  741, 3969, 5381, 7277, 9040, 7084, 4692, 9819,\n",
              "       2995, 7808], dtype=int32)"
            ]
          },
          "metadata": {
            "tags": []
          },
          "execution_count": 20
        }
      ]
    },
    {
      "cell_type": "markdown",
      "metadata": {
        "id": "CAeY2n0GlD-a"
      },
      "source": [
        "## Model Building\r\n",
        "\r\n",
        "* Splitting the dataset into training and testing data\r\n",
        "* Model training\r\n",
        "* Model evaluation\r\n",
        "* Saving the model"
      ]
    },
    {
      "cell_type": "code",
      "metadata": {
        "id": "_88xOQlTlDpq"
      },
      "source": [
        "import tensorflow as tf\r\n",
        "from tensorflow.keras import Sequential\r\n",
        "from tensorflow.keras.layers import Embedding, Bidirectional, LSTM, Dense\r\n",
        "\r\n",
        "from sklearn.model_selection import train_test_split\r\n",
        "from sklearn.metrics import classification_report, confusion_matrix"
      ],
      "execution_count": 21,
      "outputs": []
    },
    {
      "cell_type": "markdown",
      "metadata": {
        "id": "GdH2oFmZpQOE"
      },
      "source": [
        "### Splitting the dataset into training and testing data"
      ]
    },
    {
      "cell_type": "code",
      "metadata": {
        "colab": {
          "base_uri": "https://localhost:8080/"
        },
        "id": "HMs2jYn8mV2j",
        "outputId": "f5ff9397-1886-4c47-a1c8-863da3679467"
      },
      "source": [
        "X = padded_onehot\r\n",
        "y = np.array(df2['sentiment'].replace({'Positive':1,'Negative':0}))\r\n",
        "\r\n",
        "X_train, X_test, y_train, y_test = train_test_split(X, y, test_size=0.30, random_state=42,stratify=y)\r\n",
        "print(f'X train shape: {X_train.shape}')\r\n",
        "print(f'X test shape: {X_test.shape}')"
      ],
      "execution_count": 22,
      "outputs": [
        {
          "output_type": "stream",
          "text": [
            "X train shape: (16221, 310)\n",
            "X test shape: (6953, 310)\n"
          ],
          "name": "stdout"
        }
      ]
    },
    {
      "cell_type": "markdown",
      "metadata": {
        "id": "BJ_SZ-afpS_Y"
      },
      "source": [
        "### Model training"
      ]
    },
    {
      "cell_type": "code",
      "metadata": {
        "colab": {
          "base_uri": "https://localhost:8080/"
        },
        "id": "N-f3pjzUn0DQ",
        "outputId": "61514493-65ae-46cf-e1f8-da6c6761852e"
      },
      "source": [
        "# dimension of feature vector\r\n",
        "embedding_vector_features = 45\r\n",
        "\r\n",
        "model = Sequential()\r\n",
        "\r\n",
        "# Embedding layer converts word into feature vectors\r\n",
        "model.add(Embedding(vocabulary_size, embedding_vector_features, input_length=sentence_length))\r\n",
        "\r\n",
        "# Bidirectional LSTM RNN\r\n",
        "model.add(Bidirectional(LSTM(100,dropout=0.5)))\r\n",
        "\r\n",
        "# Classification layer\r\n",
        "model.add(Dense(1,activation='sigmoid'))\r\n",
        "model.compile(loss='binary_crossentropy',optimizer='adam',metrics=['accuracy'])\r\n",
        "\r\n",
        "model.fit(X_train,y_train,validation_split=0.2,batch_size=128,epochs=5)"
      ],
      "execution_count": 23,
      "outputs": [
        {
          "output_type": "stream",
          "text": [
            "Epoch 1/5\n",
            "102/102 [==============================] - 19s 147ms/step - loss: 0.6702 - accuracy: 0.5864 - val_loss: 0.3807 - val_accuracy: 0.8413\n",
            "Epoch 2/5\n",
            "102/102 [==============================] - 14s 136ms/step - loss: 0.3207 - accuracy: 0.8696 - val_loss: 0.3267 - val_accuracy: 0.8592\n",
            "Epoch 3/5\n",
            "102/102 [==============================] - 14s 135ms/step - loss: 0.2069 - accuracy: 0.9246 - val_loss: 0.3675 - val_accuracy: 0.8616\n",
            "Epoch 4/5\n",
            "102/102 [==============================] - 14s 136ms/step - loss: 0.1633 - accuracy: 0.9408 - val_loss: 0.3963 - val_accuracy: 0.8564\n",
            "Epoch 5/5\n",
            "102/102 [==============================] - 14s 135ms/step - loss: 0.1195 - accuracy: 0.9599 - val_loss: 0.4329 - val_accuracy: 0.8487\n"
          ],
          "name": "stdout"
        },
        {
          "output_type": "execute_result",
          "data": {
            "text/plain": [
              "<tensorflow.python.keras.callbacks.History at 0x7fa5d029e4a8>"
            ]
          },
          "metadata": {
            "tags": []
          },
          "execution_count": 23
        }
      ]
    },
    {
      "cell_type": "code",
      "metadata": {
        "colab": {
          "base_uri": "https://localhost:8080/"
        },
        "id": "mKVQ5k-Y8osU",
        "outputId": "9a534699-afdb-46ac-ddfb-d83553ee7cb3"
      },
      "source": [
        "model.summary()"
      ],
      "execution_count": 24,
      "outputs": [
        {
          "output_type": "stream",
          "text": [
            "Model: \"sequential\"\n",
            "_________________________________________________________________\n",
            "Layer (type)                 Output Shape              Param #   \n",
            "=================================================================\n",
            "embedding (Embedding)        (None, 310, 45)           450000    \n",
            "_________________________________________________________________\n",
            "bidirectional (Bidirectional (None, 200)               116800    \n",
            "_________________________________________________________________\n",
            "dense (Dense)                (None, 1)                 201       \n",
            "=================================================================\n",
            "Total params: 567,001\n",
            "Trainable params: 567,001\n",
            "Non-trainable params: 0\n",
            "_________________________________________________________________\n"
          ],
          "name": "stdout"
        }
      ]
    },
    {
      "cell_type": "markdown",
      "metadata": {
        "id": "x3pvNpRa0kIv"
      },
      "source": [
        "### Model evaluation"
      ]
    },
    {
      "cell_type": "code",
      "metadata": {
        "colab": {
          "base_uri": "https://localhost:8080/"
        },
        "id": "J-FTLWQqgsq0",
        "outputId": "84abf188-1496-49c3-965d-342514e7ed6f"
      },
      "source": [
        "# Evaluate our model in test data\r\n",
        "model.evaluate(X_test,y_test)"
      ],
      "execution_count": 25,
      "outputs": [
        {
          "output_type": "stream",
          "text": [
            "218/218 [==============================] - 8s 37ms/step - loss: 0.4081 - accuracy: 0.8542\n"
          ],
          "name": "stdout"
        },
        {
          "output_type": "execute_result",
          "data": {
            "text/plain": [
              "[0.40807387232780457, 0.854163646697998]"
            ]
          },
          "metadata": {
            "tags": []
          },
          "execution_count": 25
        }
      ]
    },
    {
      "cell_type": "code",
      "metadata": {
        "id": "obzCqDp4Et0j",
        "colab": {
          "base_uri": "https://localhost:8080/"
        },
        "outputId": "2a6b4335-ab67-4fda-da94-cb6ae136614a"
      },
      "source": [
        "y_predicted = [1 if y >= 0.5 else 0 for y in model.predict(X_test).flatten()]\r\n",
        "y_predicted[:5]"
      ],
      "execution_count": 26,
      "outputs": [
        {
          "output_type": "execute_result",
          "data": {
            "text/plain": [
              "[1, 0, 0, 0, 0]"
            ]
          },
          "metadata": {
            "tags": []
          },
          "execution_count": 26
        }
      ]
    },
    {
      "cell_type": "code",
      "metadata": {
        "colab": {
          "base_uri": "https://localhost:8080/",
          "height": 404
        },
        "id": "wijjWMKczjmq",
        "outputId": "d52b4b05-ce9c-4d1c-a2d0-43b22464356b"
      },
      "source": [
        "confusion_matrix_result = confusion_matrix(y_test,y_predicted)\r\n",
        "\r\n",
        "labels = ['Negative','Positive']\r\n",
        "plt.figure(figsize=(8,6))\r\n",
        "sns.heatmap(confusion_matrix_result,annot=True,cmap='Reds',fmt='.0f',xticklabels=labels,yticklabels=labels)\r\n",
        "plt.title('Movie Review Sentiment')\r\n",
        "plt.xlabel('Predicted values')\r\n",
        "plt.ylabel('Actual values')\r\n",
        "plt.show()"
      ],
      "execution_count": 27,
      "outputs": [
        {
          "output_type": "display_data",
          "data": {
            "image/png": "[encoded data removed]",
            "text/plain": [
              "<Figure size 576x432 with 2 Axes>"
            ]
          },
          "metadata": {
            "tags": [],
            "needs_background": "light"
          }
        }
      ]
    },
    {
      "cell_type": "code",
      "metadata": {
        "colab": {
          "base_uri": "https://localhost:8080/"
        },
        "id": "j5_bBaD3zyV5",
        "outputId": "375f33b8-0ca0-443e-eb85-d571e4acfa81"
      },
      "source": [
        "classification_report_result = classification_report(y_test,y_predicted)\r\n",
        "print(classification_report_result)"
      ],
      "execution_count": 28,
      "outputs": [
        {
          "output_type": "stream",
          "text": [
            "              precision    recall  f1-score   support\n",
            "\n",
            "           0       0.85      0.86      0.86      3501\n",
            "           1       0.85      0.85      0.85      3452\n",
            "\n",
            "    accuracy                           0.85      6953\n",
            "   macro avg       0.85      0.85      0.85      6953\n",
            "weighted avg       0.85      0.85      0.85      6953\n",
            "\n"
          ],
          "name": "stdout"
        }
      ]
    },
    {
      "cell_type": "markdown",
      "metadata": {
        "id": "4taDDpVcVfdL"
      },
      "source": [
        "### Saving the model"
      ]
    },
    {
      "cell_type": "code",
      "metadata": {
        "id": "WA2oSBi18deL"
      },
      "source": [
        "model.save('movie_sentiment_analysis_model.h5')"
      ],
      "execution_count": 29,
      "outputs": []
    }
  ]
}